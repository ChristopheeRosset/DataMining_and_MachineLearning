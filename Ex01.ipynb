{
  "nbformat": 4,
  "nbformat_minor": 0,
  "metadata": {
    "colab": {
      "provenance": [],
      "collapsed_sections": [],
      "authorship_tag": "ABX9TyPvwc2nVT/5ofH1h1F52vZH",
      "include_colab_link": true
    },
    "kernelspec": {
      "name": "python3",
      "display_name": "Python 3"
    },
    "language_info": {
      "name": "python"
    }
  },
  "cells": [
    {
      "cell_type": "markdown",
      "metadata": {
        "id": "view-in-github",
        "colab_type": "text"
      },
      "source": [
        "<a href=\"https://colab.research.google.com/github/ChristopheeRosset/DataMining_and_MachineLearning/blob/master/Ex01.ipynb\" target=\"_parent\"><img src=\"https://colab.research.google.com/assets/colab-badge.svg\" alt=\"Open In Colab\"/></a>"
      ]
    },
    {
      "cell_type": "code",
      "execution_count": null,
      "metadata": {
        "id": "OhFuW9aZS1wh"
      },
      "outputs": [],
      "source": []
    },
    {
      "cell_type": "markdown",
      "source": [],
      "metadata": {
        "id": "pO6fR1_ZT06m"
      }
    },
    {
      "cell_type": "markdown",
      "source": [
        "# Christophe Rosset\n",
        "\n",
        "<img src = 'https://camo.githubusercontent.com/e1cb8d9823aafc04fcc5aafb62085f50a8bc1d5fe9c98b34ea6b8ca7df041395/68747470733a2f2f75706c6f61642e77696b696d656469612e6f72672f77696b6970656469612f636f6d6d6f6e732f7468756d622f362f36622f4c69676874626c75655f2d5f7265706c6163655f746869735f696d6167655f66656d616c652e7376672f363470782d4c69676874626c75655f2d5f7265706c6163655f746869735f696d6167655f66656d616c652e7376672e706e67'>\n",
        "\n",
        "<a href=\"mailto:christophe.rosset.1@unil.ch\" target=\"_blank\"><p id=\"email\">christophe.rosset.1@unil.ch</p></a>\n",
        "\n",
        "##Experience\n",
        "- Teaching assistant Data Mining and Machine Learning class, UNIL HEC\n",
        "- Data Science intern at CERN, Genève\n",
        "\n",
        "---\n",
        "\n",
        "##Education\n",
        "\n",
        "\n",
        "* [MSc Information Systems, UNIL HEC, Lausanne](https://www.unil.ch/formations/en/home/menuinst/masters/systemes-dinformation.html)\n",
        "\n",
        "* [Bsc in Economics, LSE, London](https://www.lse.ac.uk/study-at-lse/Undergraduate/degree-programmes-2023/BSc-Economics)\n",
        "\n",
        "- Exchange year at the university of Melbourne, Australia\n",
        "---\n",
        "\n",
        "##Favourite recent projects\n",
        "| |\n",
        "|--|\n",
        " | Implementing a Recommender system to help students choose their courses\n",
        " | Political Tweets\n",
        " | blabla\n",
        " | What do students eat? Data analysis on the UNIL canteens aggregated data\n",
        " | Reducing energy waste by predicting usage peaks\n",
        "\n",
        "---\n",
        "##Skills\n",
        "\n",
        "- Computer\n",
        "  - Programming: R, Python, C++\n",
        "- Languages\n",
        "  - English, French, Spanish, German and Italian\n",
        "\n"
      ],
      "metadata": {
        "id": "8ceGIRTQT0XM"
      }
    }
  ]
}